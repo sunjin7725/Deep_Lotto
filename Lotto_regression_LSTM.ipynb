{
  "nbformat": 4,
  "nbformat_minor": 0,
  "metadata": {
    "colab": {
      "name": "Lotto_regression_LSTM.ipynb",
      "provenance": [],
      "mount_file_id": "199piYns2mF_8F-3cSb_J9XcOh1jUEJQg",
      "authorship_tag": "ABX9TyN5uE45zuFkn8Jfe0tO6cL1",
      "include_colab_link": true
    },
    "kernelspec": {
      "name": "python3",
      "display_name": "Python 3"
    }
  },
  "cells": [
    {
      "cell_type": "markdown",
      "metadata": {
        "id": "view-in-github",
        "colab_type": "text"
      },
      "source": [
        "<a href=\"https://colab.research.google.com/github/sunjin7725/Deep_Lotto/blob/master/Lotto_regression_LSTM.ipynb\" target=\"_parent\"><img src=\"https://colab.research.google.com/assets/colab-badge.svg\" alt=\"Open In Colab\"/></a>"
      ]
    },
    {
      "cell_type": "code",
      "metadata": {
        "id": "wmKfsNFAsKA9",
        "colab_type": "code",
        "colab": {
          "base_uri": "https://localhost:8080/",
          "height": 510
        },
        "outputId": "2997f1e4-8a10-4c23-bd10-785393997d19"
      },
      "source": [
        "from __future__ import absolute_import, division, print_function, unicode_literals\n",
        "!pip install tensorflow-gpu==2.0.0-rc1"
      ],
      "execution_count": 1,
      "outputs": [
        {
          "output_type": "stream",
          "text": [
            "Collecting tensorflow-gpu==2.0.0-rc1\n",
            "\u001b[?25l  Downloading https://files.pythonhosted.org/packages/73/cf/2fc69ba3e59edc8333e2676fa71b40197718dea7dc1282c79955cf6b2acb/tensorflow_gpu-2.0.0rc1-cp36-cp36m-manylinux2010_x86_64.whl (380.5MB)\n",
            "\u001b[K     |████████████████████████████████| 380.5MB 34kB/s \n",
            "\u001b[?25hRequirement already satisfied: protobuf>=3.6.1 in /usr/local/lib/python3.6/dist-packages (from tensorflow-gpu==2.0.0-rc1) (3.10.0)\n",
            "Requirement already satisfied: google-pasta>=0.1.6 in /usr/local/lib/python3.6/dist-packages (from tensorflow-gpu==2.0.0-rc1) (0.2.0)\n",
            "Requirement already satisfied: astor>=0.6.0 in /usr/local/lib/python3.6/dist-packages (from tensorflow-gpu==2.0.0-rc1) (0.8.1)\n",
            "Requirement already satisfied: termcolor>=1.1.0 in /usr/local/lib/python3.6/dist-packages (from tensorflow-gpu==2.0.0-rc1) (1.1.0)\n",
            "Requirement already satisfied: gast>=0.2.0 in /usr/local/lib/python3.6/dist-packages (from tensorflow-gpu==2.0.0-rc1) (0.3.3)\n",
            "Collecting tb-nightly<1.15.0a20190807,>=1.15.0a20190806\n",
            "\u001b[?25l  Downloading https://files.pythonhosted.org/packages/bc/88/24b5fb7280e74c7cf65bde47c171547fd02afb3840cff41bcbe9270650f5/tb_nightly-1.15.0a20190806-py3-none-any.whl (4.3MB)\n",
            "\u001b[K     |████████████████████████████████| 4.3MB 39.8MB/s \n",
            "\u001b[?25hRequirement already satisfied: absl-py>=0.7.0 in /usr/local/lib/python3.6/dist-packages (from tensorflow-gpu==2.0.0-rc1) (0.9.0)\n",
            "Requirement already satisfied: wrapt>=1.11.1 in /usr/local/lib/python3.6/dist-packages (from tensorflow-gpu==2.0.0-rc1) (1.12.1)\n",
            "Requirement already satisfied: keras-applications>=1.0.8 in /usr/local/lib/python3.6/dist-packages (from tensorflow-gpu==2.0.0-rc1) (1.0.8)\n",
            "Collecting tf-estimator-nightly<1.14.0.dev2019080602,>=1.14.0.dev2019080601\n",
            "\u001b[?25l  Downloading https://files.pythonhosted.org/packages/21/28/f2a27a62943d5f041e4a6fd404b2d21cb7c59b2242a4e73b03d9ba166552/tf_estimator_nightly-1.14.0.dev2019080601-py2.py3-none-any.whl (501kB)\n",
            "\u001b[K     |████████████████████████████████| 501kB 49.1MB/s \n",
            "\u001b[?25hRequirement already satisfied: wheel>=0.26 in /usr/local/lib/python3.6/dist-packages (from tensorflow-gpu==2.0.0-rc1) (0.34.2)\n",
            "Requirement already satisfied: grpcio>=1.8.6 in /usr/local/lib/python3.6/dist-packages (from tensorflow-gpu==2.0.0-rc1) (1.27.2)\n",
            "Requirement already satisfied: opt-einsum>=2.3.2 in /usr/local/lib/python3.6/dist-packages (from tensorflow-gpu==2.0.0-rc1) (3.2.0)\n",
            "Requirement already satisfied: keras-preprocessing>=1.0.5 in /usr/local/lib/python3.6/dist-packages (from tensorflow-gpu==2.0.0-rc1) (1.1.0)\n",
            "Requirement already satisfied: numpy<2.0,>=1.16.0 in /usr/local/lib/python3.6/dist-packages (from tensorflow-gpu==2.0.0-rc1) (1.18.2)\n",
            "Requirement already satisfied: six>=1.10.0 in /usr/local/lib/python3.6/dist-packages (from tensorflow-gpu==2.0.0-rc1) (1.12.0)\n",
            "Requirement already satisfied: setuptools in /usr/local/lib/python3.6/dist-packages (from protobuf>=3.6.1->tensorflow-gpu==2.0.0-rc1) (46.0.0)\n",
            "Requirement already satisfied: werkzeug>=0.11.15 in /usr/local/lib/python3.6/dist-packages (from tb-nightly<1.15.0a20190807,>=1.15.0a20190806->tensorflow-gpu==2.0.0-rc1) (1.0.0)\n",
            "Requirement already satisfied: markdown>=2.6.8 in /usr/local/lib/python3.6/dist-packages (from tb-nightly<1.15.0a20190807,>=1.15.0a20190806->tensorflow-gpu==2.0.0-rc1) (3.2.1)\n",
            "Requirement already satisfied: h5py in /usr/local/lib/python3.6/dist-packages (from keras-applications>=1.0.8->tensorflow-gpu==2.0.0-rc1) (2.10.0)\n",
            "Installing collected packages: tb-nightly, tf-estimator-nightly, tensorflow-gpu\n",
            "Successfully installed tb-nightly-1.15.0a20190806 tensorflow-gpu-2.0.0rc1 tf-estimator-nightly-1.14.0.dev2019080601\n"
          ],
          "name": "stdout"
        }
      ]
    },
    {
      "cell_type": "code",
      "metadata": {
        "id": "8K6aDIYFy5QD",
        "colab_type": "code",
        "colab": {
          "base_uri": "https://localhost:8080/",
          "height": 122
        },
        "outputId": "e72f8e5c-8087-408f-bd07-19c57271319c"
      },
      "source": [
        "from google.colab import drive\n",
        "drive.mount('/gdrive', force_remount=True)"
      ],
      "execution_count": 12,
      "outputs": [
        {
          "output_type": "stream",
          "text": [
            "Go to this URL in a browser: https://accounts.google.com/o/oauth2/auth?client_id=947318989803-6bn6qk8qdgf4n4g3pfee6491hc0brc4i.apps.googleusercontent.com&redirect_uri=urn%3aietf%3awg%3aoauth%3a2.0%3aoob&response_type=code&scope=email%20https%3a%2f%2fwww.googleapis.com%2fauth%2fdocs.test%20https%3a%2f%2fwww.googleapis.com%2fauth%2fdrive%20https%3a%2f%2fwww.googleapis.com%2fauth%2fdrive.photos.readonly%20https%3a%2f%2fwww.googleapis.com%2fauth%2fpeopleapi.readonly\n",
            "\n",
            "Enter your authorization code:\n",
            "··········\n",
            "Mounted at /gdrive\n"
          ],
          "name": "stdout"
        }
      ]
    },
    {
      "cell_type": "code",
      "metadata": {
        "id": "dT5kJyqSxcZB",
        "colab_type": "code",
        "colab": {}
      },
      "source": [
        "import numpy as np"
      ],
      "execution_count": 0,
      "outputs": []
    },
    {
      "cell_type": "code",
      "metadata": {
        "id": "3KvXlOmYxg2g",
        "colab_type": "code",
        "colab": {
          "base_uri": "https://localhost:8080/",
          "height": 34
        },
        "outputId": "74decf29-d76c-4bc1-9a4c-cab9b02cf7a6"
      },
      "source": [
        "rows = np.loadtxt('/gdrive/My Drive/Colab Notebooks/Deep_Lotto/2020-04-01_lotto_v904_data.csv',delimiter=\",\")\n",
        "print(len(rows))"
      ],
      "execution_count": 14,
      "outputs": [
        {
          "output_type": "stream",
          "text": [
            "904\n"
          ],
          "name": "stdout"
        }
      ]
    },
    {
      "cell_type": "code",
      "metadata": {
        "id": "BQAfzWcvyEpB",
        "colab_type": "code",
        "colab": {}
      },
      "source": [
        "def number2onehot(number):\n",
        "    one_hot = np.zeros(45)\n",
        "\n",
        "    for i in range(6):\n",
        "        one_hot[int(number[i])-1] = 1\n",
        "        \n",
        "    return one_hot"
      ],
      "execution_count": 0,
      "outputs": []
    },
    {
      "cell_type": "code",
      "metadata": {
        "id": "aPmCb-cNzMF6",
        "colab_type": "code",
        "colab": {}
      },
      "source": [
        "def onehot2number(onehot):\n",
        "    number = []\n",
        "    \n",
        "    for i in range(len(onehot)):\n",
        "        if onehot[i] == 1:\n",
        "            number.append(i+1)\n",
        "        \n",
        "    return number"
      ],
      "execution_count": 0,
      "outputs": []
    },
    {
      "cell_type": "code",
      "metadata": {
        "id": "t9cty9cWzM7Z",
        "colab_type": "code",
        "colab": {
          "base_uri": "https://localhost:8080/",
          "height": 153
        },
        "outputId": "b35de55a-646c-4bb2-b642-e2805a740ab1"
      },
      "source": [
        "numbers = rows[:,1:7]\n",
        "onehots = list(map(number2onehot,numbers))\n",
        "x_samples = onehots[0:904-1]\n",
        "y_samples = onehots[1:904]\n",
        "\n",
        "#원핫인코딩으로 표시\n",
        "print(\"ohbins\")\n",
        "print(\"X[0]: \" + str(x_samples[0]))\n",
        "print(\"Y[0]: \" + str(y_samples[0]))\n",
        "\n",
        "#번호로 표시\n",
        "print(\"numbers\")\n",
        "print(\"X[0]: \" + str(onehot2number(x_samples[0])))\n",
        "print(\"Y[0]: \" + str(onehot2number(y_samples[0])))"
      ],
      "execution_count": 17,
      "outputs": [
        {
          "output_type": "stream",
          "text": [
            "ohbins\n",
            "X[0]: [0. 0. 0. 0. 0. 0. 0. 0. 0. 1. 0. 0. 0. 0. 0. 0. 0. 0. 0. 0. 0. 0. 1. 0.\n",
            " 0. 0. 0. 0. 1. 0. 0. 0. 1. 0. 0. 0. 1. 0. 0. 1. 0. 0. 0. 0. 0.]\n",
            "Y[0]: [0. 0. 0. 0. 0. 0. 0. 0. 1. 0. 0. 0. 1. 0. 0. 0. 0. 0. 0. 0. 1. 0. 0. 0.\n",
            " 1. 0. 0. 0. 0. 0. 0. 1. 0. 0. 0. 0. 0. 0. 0. 0. 0. 1. 0. 0. 0.]\n",
            "numbers\n",
            "X[0]: [10, 23, 29, 33, 37, 40]\n",
            "Y[0]: [9, 13, 21, 25, 32, 42]\n"
          ],
          "name": "stdout"
        }
      ]
    },
    {
      "cell_type": "markdown",
      "metadata": {
        "id": "y3rKiauNzSn0",
        "colab_type": "text"
      },
      "source": [
        "데이터 셋 구성"
      ]
    },
    {
      "cell_type": "code",
      "metadata": {
        "id": "4B7OBeCEzQe_",
        "colab_type": "code",
        "colab": {
          "base_uri": "https://localhost:8080/",
          "height": 34
        },
        "outputId": "3c36d7b6-359f-455e-df78-ee2942cba5c8"
      },
      "source": [
        "train_idx = (0,800)\n",
        "val_idx = (800,850)\n",
        "test_idx = (850, len(numbers))\n",
        "\n",
        "print(\"train: {0}, val: {1}, test: {2}\".format(train_idx, val_idx, test_idx))"
      ],
      "execution_count": 18,
      "outputs": [
        {
          "output_type": "stream",
          "text": [
            "train: (0, 800), val: (800, 850), test: (850, 904)\n"
          ],
          "name": "stdout"
        }
      ]
    },
    {
      "cell_type": "code",
      "metadata": {
        "id": "armUoVtbzUqt",
        "colab_type": "code",
        "colab": {}
      },
      "source": [
        "import tensorflow as tf\n",
        "from tensorflow import keras\n",
        "from tensorflow.keras import layers\n",
        "from tensorflow.keras import models"
      ],
      "execution_count": 0,
      "outputs": []
    },
    {
      "cell_type": "code",
      "metadata": {
        "id": "Q3fBcrPUzV7Z",
        "colab_type": "code",
        "colab": {}
      },
      "source": [
        "model = keras.Sequential([\n",
        "                          keras.layers.LSTM(128, batch_input_shape=(1,1,45), return_sequences=False, stateful=True),\n",
        "                          keras.layers.Dense(45,activation=\"sigmoid\")\n",
        "])\n",
        "\n",
        "model.compile(loss='binary_crossentropy', optimizer='adam', metrics=['accuracy'])"
      ],
      "execution_count": 0,
      "outputs": []
    },
    {
      "cell_type": "code",
      "metadata": {
        "id": "tbrRpxfCzuLE",
        "colab_type": "code",
        "colab": {
          "base_uri": "https://localhost:8080/",
          "height": 1000
        },
        "outputId": "b7fb59da-1b8a-4c7a-f27e-bab266a33b1a"
      },
      "source": [
        "train_loss = []\n",
        "train_acc = []\n",
        "val_loss = []\n",
        "val_acc = []\n",
        "\n",
        "for epoch in range(100):\n",
        "  model.reset_states()\n",
        "\n",
        "  batch_train_loss = []\n",
        "  batch_train_acc = []\n",
        "\n",
        "  for i in range(train_idx[0],train_idx[1]):\n",
        "    xs = x_samples[i].reshape(1,1,45)\n",
        "    ys = y_samples[i].reshape(1,45)\n",
        "\n",
        "    loss, acc = model.train_on_batch(xs,ys)\n",
        "\n",
        "    batch_train_acc.append(acc)\n",
        "    batch_train_loss.append(loss)\n",
        "\n",
        "  train_acc.append(np.mean(batch_train_acc))\n",
        "  train_loss.append(np.mean(batch_train_loss))\n",
        "\n",
        "  batch_val_acc = []\n",
        "  batch_val_loss = []\n",
        "\n",
        "  for i in range(val_idx[0], val_idx[1]):\n",
        "    xs = x_samples[i].reshape(1,1,45)\n",
        "    ys = y_samples[i].reshape(1,45)\n",
        "\n",
        "    loss, acc = model.test_on_batch(xs,ys)\n",
        "\n",
        "    batch_val_acc.append(acc)\n",
        "    batch_val_loss.append(loss)\n",
        "\n",
        "  val_acc.append(np.mean(batch_val_acc))\n",
        "  val_loss.append(np.mean(batch_val_loss))\n",
        "\n",
        "  print('epoch {0:4d} train acc {1:0.3f} loss {2:0.3f} val acc {3:0.3f} loss {4:0.3f}'.format(epoch, np.mean(batch_train_acc), np.mean(batch_train_loss), np.mean(batch_val_acc), np.mean(batch_val_loss)))\n",
        "\n",
        "  model.save('model_{0:04d}.h5'.format(epoch+1))"
      ],
      "execution_count": 21,
      "outputs": [
        {
          "output_type": "stream",
          "text": [
            "WARNING:tensorflow:From /usr/local/lib/python3.6/dist-packages/tensorflow_core/python/ops/math_grad.py:1394: where (from tensorflow.python.ops.array_ops) is deprecated and will be removed in a future version.\n",
            "Instructions for updating:\n",
            "Use tf.where in 2.0, which has the same broadcast rule as np.where\n",
            "epoch    0 train acc 0.862 loss 0.409 val acc 0.867 loss 0.396\n",
            "epoch    1 train acc 0.867 loss 0.396 val acc 0.867 loss 0.395\n",
            "epoch    2 train acc 0.867 loss 0.394 val acc 0.867 loss 0.395\n",
            "epoch    3 train acc 0.867 loss 0.392 val acc 0.867 loss 0.396\n",
            "epoch    4 train acc 0.867 loss 0.388 val acc 0.867 loss 0.397\n",
            "epoch    5 train acc 0.867 loss 0.384 val acc 0.867 loss 0.398\n",
            "epoch    6 train acc 0.867 loss 0.380 val acc 0.867 loss 0.399\n",
            "epoch    7 train acc 0.867 loss 0.375 val acc 0.867 loss 0.401\n",
            "epoch    8 train acc 0.867 loss 0.369 val acc 0.866 loss 0.404\n",
            "epoch    9 train acc 0.867 loss 0.364 val acc 0.866 loss 0.407\n",
            "epoch   10 train acc 0.867 loss 0.358 val acc 0.865 loss 0.410\n",
            "epoch   11 train acc 0.867 loss 0.352 val acc 0.864 loss 0.414\n",
            "epoch   12 train acc 0.868 loss 0.345 val acc 0.864 loss 0.418\n",
            "epoch   13 train acc 0.869 loss 0.338 val acc 0.863 loss 0.422\n",
            "epoch   14 train acc 0.870 loss 0.330 val acc 0.861 loss 0.426\n",
            "epoch   15 train acc 0.872 loss 0.322 val acc 0.859 loss 0.431\n",
            "epoch   16 train acc 0.874 loss 0.313 val acc 0.859 loss 0.436\n",
            "epoch   17 train acc 0.877 loss 0.304 val acc 0.856 loss 0.441\n",
            "epoch   18 train acc 0.880 loss 0.294 val acc 0.854 loss 0.447\n",
            "epoch   19 train acc 0.884 loss 0.284 val acc 0.850 loss 0.454\n",
            "epoch   20 train acc 0.888 loss 0.274 val acc 0.848 loss 0.462\n",
            "epoch   21 train acc 0.892 loss 0.263 val acc 0.845 loss 0.471\n",
            "epoch   22 train acc 0.897 loss 0.252 val acc 0.844 loss 0.480\n",
            "epoch   23 train acc 0.902 loss 0.242 val acc 0.843 loss 0.489\n",
            "epoch   24 train acc 0.906 loss 0.231 val acc 0.839 loss 0.499\n",
            "epoch   25 train acc 0.911 loss 0.221 val acc 0.836 loss 0.508\n",
            "epoch   26 train acc 0.917 loss 0.211 val acc 0.832 loss 0.517\n",
            "epoch   27 train acc 0.921 loss 0.202 val acc 0.828 loss 0.525\n",
            "epoch   28 train acc 0.926 loss 0.193 val acc 0.829 loss 0.534\n",
            "epoch   29 train acc 0.931 loss 0.184 val acc 0.819 loss 0.551\n",
            "epoch   30 train acc 0.935 loss 0.175 val acc 0.820 loss 0.568\n",
            "epoch   31 train acc 0.939 loss 0.168 val acc 0.821 loss 0.573\n",
            "epoch   32 train acc 0.943 loss 0.160 val acc 0.822 loss 0.578\n",
            "epoch   33 train acc 0.947 loss 0.153 val acc 0.816 loss 0.594\n",
            "epoch   34 train acc 0.949 loss 0.147 val acc 0.816 loss 0.611\n",
            "epoch   35 train acc 0.952 loss 0.142 val acc 0.816 loss 0.620\n",
            "epoch   36 train acc 0.955 loss 0.136 val acc 0.810 loss 0.632\n",
            "epoch   37 train acc 0.957 loss 0.131 val acc 0.811 loss 0.634\n",
            "epoch   38 train acc 0.961 loss 0.127 val acc 0.813 loss 0.648\n",
            "epoch   39 train acc 0.963 loss 0.119 val acc 0.812 loss 0.654\n",
            "epoch   40 train acc 0.964 loss 0.116 val acc 0.805 loss 0.677\n",
            "epoch   41 train acc 0.968 loss 0.109 val acc 0.803 loss 0.673\n",
            "epoch   42 train acc 0.969 loss 0.106 val acc 0.799 loss 0.690\n",
            "epoch   43 train acc 0.970 loss 0.104 val acc 0.802 loss 0.685\n",
            "epoch   44 train acc 0.973 loss 0.097 val acc 0.799 loss 0.710\n",
            "epoch   45 train acc 0.974 loss 0.093 val acc 0.796 loss 0.726\n",
            "epoch   46 train acc 0.977 loss 0.089 val acc 0.799 loss 0.725\n",
            "epoch   47 train acc 0.976 loss 0.088 val acc 0.800 loss 0.744\n",
            "epoch   48 train acc 0.981 loss 0.079 val acc 0.800 loss 0.759\n",
            "epoch   49 train acc 0.983 loss 0.074 val acc 0.799 loss 0.776\n",
            "epoch   50 train acc 0.984 loss 0.073 val acc 0.800 loss 0.780\n",
            "epoch   51 train acc 0.983 loss 0.071 val acc 0.806 loss 0.766\n",
            "epoch   52 train acc 0.984 loss 0.069 val acc 0.806 loss 0.795\n",
            "epoch   53 train acc 0.987 loss 0.063 val acc 0.801 loss 0.786\n",
            "epoch   54 train acc 0.988 loss 0.059 val acc 0.802 loss 0.801\n",
            "epoch   55 train acc 0.990 loss 0.055 val acc 0.801 loss 0.834\n",
            "epoch   56 train acc 0.987 loss 0.058 val acc 0.805 loss 0.824\n",
            "epoch   57 train acc 0.988 loss 0.055 val acc 0.808 loss 0.846\n",
            "epoch   58 train acc 0.987 loss 0.057 val acc 0.795 loss 0.858\n",
            "epoch   59 train acc 0.988 loss 0.052 val acc 0.800 loss 0.876\n",
            "epoch   60 train acc 0.993 loss 0.045 val acc 0.805 loss 0.876\n",
            "epoch   61 train acc 0.992 loss 0.044 val acc 0.804 loss 0.887\n",
            "epoch   62 train acc 0.995 loss 0.038 val acc 0.800 loss 0.898\n",
            "epoch   63 train acc 0.990 loss 0.045 val acc 0.800 loss 0.926\n",
            "epoch   64 train acc 0.992 loss 0.042 val acc 0.800 loss 0.911\n",
            "epoch   65 train acc 0.992 loss 0.039 val acc 0.799 loss 0.944\n",
            "epoch   66 train acc 0.994 loss 0.037 val acc 0.803 loss 0.951\n",
            "epoch   67 train acc 0.996 loss 0.032 val acc 0.804 loss 0.952\n",
            "epoch   68 train acc 0.994 loss 0.033 val acc 0.803 loss 0.974\n",
            "epoch   69 train acc 0.994 loss 0.035 val acc 0.803 loss 0.990\n",
            "epoch   70 train acc 0.993 loss 0.035 val acc 0.802 loss 0.992\n",
            "epoch   71 train acc 0.994 loss 0.032 val acc 0.809 loss 0.990\n",
            "epoch   72 train acc 0.996 loss 0.028 val acc 0.807 loss 1.031\n",
            "epoch   73 train acc 0.996 loss 0.028 val acc 0.812 loss 0.998\n",
            "epoch   74 train acc 0.996 loss 0.028 val acc 0.804 loss 1.008\n",
            "epoch   75 train acc 0.997 loss 0.024 val acc 0.813 loss 1.010\n",
            "epoch   76 train acc 0.993 loss 0.031 val acc 0.811 loss 1.038\n",
            "epoch   77 train acc 0.993 loss 0.031 val acc 0.805 loss 1.042\n",
            "epoch   78 train acc 0.995 loss 0.027 val acc 0.808 loss 1.031\n",
            "epoch   79 train acc 0.997 loss 0.023 val acc 0.814 loss 1.056\n",
            "epoch   80 train acc 0.995 loss 0.026 val acc 0.801 loss 1.057\n",
            "epoch   81 train acc 0.996 loss 0.024 val acc 0.802 loss 1.063\n",
            "epoch   82 train acc 0.998 loss 0.018 val acc 0.804 loss 1.087\n",
            "epoch   83 train acc 0.998 loss 0.019 val acc 0.805 loss 1.091\n",
            "epoch   84 train acc 0.995 loss 0.024 val acc 0.796 loss 1.084\n",
            "epoch   85 train acc 0.995 loss 0.023 val acc 0.805 loss 1.095\n",
            "epoch   86 train acc 0.998 loss 0.018 val acc 0.808 loss 1.111\n",
            "epoch   87 train acc 0.997 loss 0.018 val acc 0.798 loss 1.093\n",
            "epoch   88 train acc 0.996 loss 0.021 val acc 0.801 loss 1.121\n",
            "epoch   89 train acc 0.997 loss 0.019 val acc 0.803 loss 1.100\n",
            "epoch   90 train acc 0.997 loss 0.018 val acc 0.800 loss 1.130\n",
            "epoch   91 train acc 0.998 loss 0.016 val acc 0.797 loss 1.105\n",
            "epoch   92 train acc 0.997 loss 0.017 val acc 0.807 loss 1.131\n",
            "epoch   93 train acc 0.997 loss 0.019 val acc 0.811 loss 1.155\n",
            "epoch   94 train acc 0.997 loss 0.017 val acc 0.806 loss 1.139\n",
            "epoch   95 train acc 0.996 loss 0.020 val acc 0.808 loss 1.113\n",
            "epoch   96 train acc 0.997 loss 0.017 val acc 0.804 loss 1.173\n",
            "epoch   97 train acc 0.998 loss 0.014 val acc 0.806 loss 1.178\n",
            "epoch   98 train acc 0.997 loss 0.015 val acc 0.808 loss 1.173\n",
            "epoch   99 train acc 0.997 loss 0.016 val acc 0.808 loss 1.166\n"
          ],
          "name": "stdout"
        }
      ]
    },
    {
      "cell_type": "code",
      "metadata": {
        "id": "6LMrsvI71iHo",
        "colab_type": "code",
        "colab": {
          "base_uri": "https://localhost:8080/",
          "height": 279
        },
        "outputId": "4958bca0-b312-4fb9-eb86-5018dc4d4e77"
      },
      "source": [
        "%matplotlib inline\n",
        "import matplotlib.pyplot as plt\n",
        "\n",
        "fig, loss_ax = plt.subplots()\n",
        "\n",
        "acc_ax = loss_ax.twinx()\n",
        "\n",
        "loss_ax.plot(train_loss, 'y', label='train loss')\n",
        "loss_ax.plot(val_loss, 'r', label='val loss')\n",
        "\n",
        "acc_ax.plot(train_acc, 'b', label='train acc')\n",
        "acc_ax.plot(val_acc, 'g', label='val acc')\n",
        "\n",
        "loss_ax.set_xlabel('epoch')\n",
        "loss_ax.set_ylabel('loss')\n",
        "acc_ax.set_ylabel('accuray')\n",
        "\n",
        "loss_ax.legend(loc='upper left')\n",
        "acc_ax.legend(loc='lower left')\n",
        "\n",
        "plt.show()"
      ],
      "execution_count": 22,
      "outputs": [
        {
          "output_type": "display_data",
          "data": {
            "image/png": "[encoded data removed]",
            "text/plain": [
              "<Figure size 432x288 with 2 Axes>"
            ]
          },
          "metadata": {
            "tags": []
          }
        }
      ]
    },
    {
      "cell_type": "markdown",
      "metadata": {
        "id": "tDgU_uAz7SIb",
        "colab_type": "text"
      },
      "source": [
        "전체 데이터 학습 후 10개의 결과 추출해보기"
      ]
    },
    {
      "cell_type": "code",
      "metadata": {
        "id": "fAjMVyKx6ByV",
        "colab_type": "code",
        "colab": {
          "base_uri": "https://localhost:8080/",
          "height": 357
        },
        "outputId": "7ddb0201-ed4e-44cb-f76b-f1c9ba9e15eb"
      },
      "source": [
        "train_loss = []\n",
        "train_acc = []\n",
        "\n",
        "for epoch in range(200):\n",
        "  model.reset_states()\n",
        "\n",
        "  batch_train_acc = []\n",
        "  batch_train_loss = []\n",
        "\n",
        "  for i in range(len(x_samples)):\n",
        "    xs = x_samples[i].reshape(1,1,45)\n",
        "    ys = y_samples[i].reshape(1,45)\n",
        "\n",
        "    loss, acc = model.train_on_batch(xs, ys)\n",
        "\n",
        "    batch_train_acc.append(acc)\n",
        "    batch_train_loss.append(loss)\n",
        "\n",
        "  train_acc.append(np.mean(batch_train_acc))\n",
        "  train_loss.append(np.mean(batch_train_loss))\n",
        "\n",
        "  if epoch % 10 == 0:\n",
        "    print('epoch {0:4d} train acc {1:0.3f} loss {2:0.3f}'.format(epoch, np.mean(batch_train_acc), np.mean(batch_train_loss)))"
      ],
      "execution_count": 24,
      "outputs": [
        {
          "output_type": "stream",
          "text": [
            "epoch    0 train acc 0.999 loss 0.003\n",
            "epoch   10 train acc 1.000 loss 0.002\n",
            "epoch   20 train acc 0.998 loss 0.005\n",
            "epoch   30 train acc 1.000 loss 0.000\n",
            "epoch   40 train acc 0.999 loss 0.004\n",
            "epoch   50 train acc 1.000 loss 0.002\n",
            "epoch   60 train acc 1.000 loss 0.001\n",
            "epoch   70 train acc 0.999 loss 0.003\n",
            "epoch   80 train acc 0.996 loss 0.013\n",
            "epoch   90 train acc 0.998 loss 0.006\n",
            "epoch  100 train acc 0.999 loss 0.003\n",
            "epoch  110 train acc 0.999 loss 0.003\n",
            "epoch  120 train acc 0.999 loss 0.003\n",
            "epoch  130 train acc 0.999 loss 0.003\n",
            "epoch  140 train acc 1.000 loss 0.001\n",
            "epoch  150 train acc 1.000 loss 0.001\n",
            "epoch  160 train acc 1.000 loss 0.000\n",
            "epoch  170 train acc 1.000 loss 0.002\n",
            "epoch  180 train acc 1.000 loss 0.000\n",
            "epoch  190 train acc 0.998 loss 0.004\n"
          ],
          "name": "stdout"
        }
      ]
    },
    {
      "cell_type": "code",
      "metadata": {
        "id": "c6FFXnmm8DSz",
        "colab_type": "code",
        "colab": {}
      },
      "source": [
        "def gen_numbers_from_probability(nums_prob):\n",
        "\n",
        "    ball_box = []\n",
        "\n",
        "    for n in range(45):\n",
        "        ball_count = int(nums_prob[n] * 100 + 1)\n",
        "        ball = np.full((ball_count), n+1) #1부터 시작\n",
        "        ball_box += list(ball)\n",
        "\n",
        "    selected_balls = []\n",
        "\n",
        "    while True:\n",
        "        \n",
        "        if len(selected_balls) == 6:\n",
        "            break\n",
        "        \n",
        "        ball_index = np.random.randint(len(ball_box), size=1)[0]\n",
        "        ball = ball_box[ball_index]\n",
        "\n",
        "        if ball not in selected_balls:\n",
        "            selected_balls.append(ball)\n",
        "\n",
        "    return selected_balls"
      ],
      "execution_count": 0,
      "outputs": []
    },
    {
      "cell_type": "code",
      "metadata": {
        "id": "dOLFbs458QSG",
        "colab_type": "code",
        "colab": {
          "base_uri": "https://localhost:8080/",
          "height": 204
        },
        "outputId": "7ca08a3a-71f0-4f02-87d1-ce01443c42c2"
      },
      "source": [
        "# 마지막 회차까지 학습한 모델로 다음 회차 추론\n",
        "\n",
        "print('receive numbers')\n",
        "\n",
        "xs = x_samples[-1].reshape(1, 1, 45)\n",
        "\n",
        "ys_pred = model.predict_on_batch(xs)\n",
        "\n",
        "list_numbers = []\n",
        "\n",
        "for n in range(10):\n",
        "    numbers = gen_numbers_from_probability(ys_pred[0])\n",
        "    print('{0} : {1}'.format(n, numbers))\n",
        "    list_numbers.append(numbers)  "
      ],
      "execution_count": 26,
      "outputs": [
        {
          "output_type": "stream",
          "text": [
            "receive numbers\n",
            "0 : [40, 43, 19, 17, 28, 33]\n",
            "1 : [33, 19, 17, 42, 40, 32]\n",
            "2 : [43, 19, 32, 33, 45, 40]\n",
            "3 : [33, 18, 32, 41, 43, 40]\n",
            "4 : [33, 17, 40, 32, 43, 19]\n",
            "5 : [33, 43, 17, 40, 45, 19]\n",
            "6 : [19, 33, 32, 17, 43, 40]\n",
            "7 : [32, 43, 33, 19, 17, 40]\n",
            "8 : [17, 43, 32, 40, 33, 19]\n",
            "9 : [17, 4, 32, 33, 43, 19]\n"
          ],
          "name": "stdout"
        }
      ]
    },
    {
      "cell_type": "code",
      "metadata": {
        "id": "aG483TWk8Sqp",
        "colab_type": "code",
        "colab": {}
      },
      "source": [
        ""
      ],
      "execution_count": 0,
      "outputs": []
    }
  ]
}