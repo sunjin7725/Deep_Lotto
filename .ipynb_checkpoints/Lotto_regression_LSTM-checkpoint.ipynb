{
 "cells": [
  {
   "cell_type": "code",
   "execution_count": 1,
   "metadata": {},
   "outputs": [],
   "source": [
    "import numpy as np"
   ]
  },
  {
   "cell_type": "code",
   "execution_count": 4,
   "metadata": {},
   "outputs": [
    {
     "name": "stdout",
     "output_type": "stream",
     "text": [
      "904\n"
     ]
    }
   ],
   "source": [
    "rows = np.loadtxt('2020-04-01_lotto_v904_data.csv',delimiter=\",\")\n",
    "print(len(rows))"
   ]
  },
  {
   "cell_type": "code",
   "execution_count": 8,
   "metadata": {},
   "outputs": [],
   "source": [
    "def number2onehot(number):\n",
    "    one_hot = np.zeros(45)\n",
    "\n",
    "    for i in range(6):\n",
    "        one_hot[int(number[i])-1] = 1\n",
    "        \n",
    "    return one_hot"
   ]
  },
  {
   "cell_type": "code",
   "execution_count": 9,
   "metadata": {},
   "outputs": [],
   "source": [
    "def onehot2number(onehot):\n",
    "    number = []\n",
    "    \n",
    "    for i in range(len(onehot)):\n",
    "        if onehot[i] == 1:\n",
    "            number.append(i+1)\n",
    "        \n",
    "    return number"
   ]
  },
  {
   "cell_type": "code",
   "execution_count": 10,
   "metadata": {},
   "outputs": [],
   "source": [
    "numbers = rows[:,1:7]"
   ]
  },
  {
   "cell_type": "code",
   "execution_count": 15,
   "metadata": {},
   "outputs": [],
   "source": [
    "onehots = list(map(number2onehot,numbers))"
   ]
  },
  {
   "cell_type": "code",
   "execution_count": 17,
   "metadata": {},
   "outputs": [],
   "source": [
    "x_samples = onehots[0:904-1]\n",
    "y_samples = onehots[1:904]"
   ]
  },
  {
   "cell_type": "code",
   "execution_count": 20,
   "metadata": {},
   "outputs": [
    {
     "name": "stdout",
     "output_type": "stream",
     "text": [
      "ohbins\n",
      "X[0]: [0. 0. 0. 0. 0. 0. 0. 0. 0. 1. 0. 0. 0. 0. 0. 0. 0. 0. 0. 0. 0. 0. 1. 0.\n",
      " 0. 0. 0. 0. 1. 0. 0. 0. 1. 0. 0. 0. 1. 0. 0. 1. 0. 0. 0. 0. 0.]\n",
      "Y[0]: [0. 0. 0. 0. 0. 0. 0. 0. 1. 0. 0. 0. 1. 0. 0. 0. 0. 0. 0. 0. 1. 0. 0. 0.\n",
      " 1. 0. 0. 0. 0. 0. 0. 1. 0. 0. 0. 0. 0. 0. 0. 0. 0. 1. 0. 0. 0.]\n",
      "numbers\n",
      "X[0]: [10, 23, 29, 33, 37, 40]\n",
      "Y[0]: [9, 13, 21, 25, 32, 42]\n"
     ]
    }
   ],
   "source": [
    "#원핫인코딩으로 표시\n",
    "print(\"ohbins\")\n",
    "print(\"X[0]: \" + str(x_samples[0]))\n",
    "print(\"Y[0]: \" + str(y_samples[0]))\n",
    "\n",
    "#번호로 표시\n",
    "print(\"numbers\")\n",
    "print(\"X[0]: \" + str(onehot2number(x_samples[0])))\n",
    "print(\"Y[0]: \" + str(onehot2number(y_samples[0])))"
   ]
  },
  {
   "cell_type": "markdown",
   "metadata": {},
   "source": [
    "# 데이터셋 구성"
   ]
  },
  {
   "cell_type": "code",
   "execution_count": 23,
   "metadata": {},
   "outputs": [
    {
     "name": "stdout",
     "output_type": "stream",
     "text": [
      "train: (0, 800), val: (800, 850), test: (850, 904)\n"
     ]
    }
   ],
   "source": [
    "train_idx = (0,800)\n",
    "val_idx = (800,850)\n",
    "test_idx = (850, len(numbers))\n",
    "\n",
    "print(\"train: {0}, val: {1}, test: {2}\".format(train_idx, val_idx, test_idx))"
   ]
  },
  {
   "cell_type": "code",
   "execution_count": 24,
   "metadata": {},
   "outputs": [
    {
     "ename": "ModuleNotFoundError",
     "evalue": "No module named 'tensorflow'",
     "output_type": "error",
     "traceback": [
      "\u001b[1;31m---------------------------------------------------------------------------\u001b[0m",
      "\u001b[1;31mModuleNotFoundError\u001b[0m                       Traceback (most recent call last)",
      "\u001b[1;32m<ipython-input-24-fc2ffcdacd0f>\u001b[0m in \u001b[0;36m<module>\u001b[1;34m\u001b[0m\n\u001b[1;32m----> 1\u001b[1;33m \u001b[1;32mimport\u001b[0m \u001b[0mtensorflow\u001b[0m \u001b[1;32mas\u001b[0m \u001b[0mtf\u001b[0m\u001b[1;33m\u001b[0m\u001b[1;33m\u001b[0m\u001b[0m\n\u001b[0m\u001b[0;32m      2\u001b[0m \u001b[1;32mfrom\u001b[0m \u001b[0mtensorflow\u001b[0m \u001b[1;32mimport\u001b[0m \u001b[0mkeras\u001b[0m\u001b[1;33m\u001b[0m\u001b[1;33m\u001b[0m\u001b[0m\n\u001b[0;32m      3\u001b[0m \u001b[1;32mfrom\u001b[0m \u001b[0mtensorflow\u001b[0m\u001b[1;33m.\u001b[0m\u001b[0mkeras\u001b[0m \u001b[1;32mimport\u001b[0m \u001b[0mlayers\u001b[0m\u001b[1;33m\u001b[0m\u001b[1;33m\u001b[0m\u001b[0m\n\u001b[0;32m      4\u001b[0m \u001b[1;32mfrom\u001b[0m \u001b[0mtensorflow\u001b[0m\u001b[1;33m.\u001b[0m\u001b[0mkeras\u001b[0m \u001b[1;32mimport\u001b[0m \u001b[0mmodels\u001b[0m\u001b[1;33m\u001b[0m\u001b[1;33m\u001b[0m\u001b[0m\n",
      "\u001b[1;31mModuleNotFoundError\u001b[0m: No module named 'tensorflow'"
     ]
    }
   ],
   "source": [
    "import tensorflow as tf\n",
    "from tensorflow import keras\n",
    "from tensorflow.keras import layers\n",
    "from tensorflow.keras import models"
   ]
  },
  {
   "cell_type": "code",
   "execution_count": null,
   "metadata": {},
   "outputs": [],
   "source": [
    "train_loss = []\n",
    "train_acc = []\n",
    "val_loss = []\n",
    "val_acc = []\n",
    "\n",
    "for epoch in range(100):\n",
    "    model.reset_states()\n",
    "\n",
    "    batch_train_loss = []\n",
    "    batch_train_acc = []\n",
    "\n",
    "    for i in range(train_idx[0],train_idx[1]):\n",
    "        xs = x_samples[i].reshape(1,1,45)\n",
    "        ys = y_samples[i].reshape(1,45)\n",
    "\n",
    "        loss, acc = model.train_on_batch(xs,ys)\n",
    "\n",
    "        batch_train_acc.append(acc)\n",
    "        batch_train_loss.append(loss)\n",
    "\n",
    "        train_acc.append(np.mean(batch_train_acc))\n",
    "        train_loss.append(np.mean(batch_train_loss))\n",
    "\n",
    "    batch_val_acc = []\n",
    "    batch_val_loss = []\n",
    "\n",
    "    for i in range(val_idx[0], val_idx[1]):\n",
    "        xs = x_samples[i].reshape(1,1,45)\n",
    "        ys = y_samples[i].reshape(1,45)\n",
    "\n",
    "        loss, acc = model.test_on_batch(xs,ys)\n",
    "\n",
    "        batch_val_acc.append(acc)\n",
    "        batch_val_loss.append(loss)\n",
    "\n",
    "        val_acc.append(np.mean(batch_val_acc))\n",
    "        val_loss.append(np.mean(batch_val_loss))\n",
    "\n",
    "    print('epoch {0:4d} train acc {1:0.3f} loss {2:0.3f} val acc {3:0.3f} loss {4:0.3f}'.format(epoch, np.mean(batch_train_acc), np.mean(batch_train_loss), np.mean(batch_val_acc), np.mean(batch_val_loss)))\n",
    "\n",
    "    model.save('model_{0:04d}.h5'.format(epoch+1))"
   ]
  },
  {
   "cell_type": "code",
   "execution_count": null,
   "metadata": {},
   "outputs": [],
   "source": [
    "train_loss = []\n",
    "train_acc = []\n",
    "\n",
    "for epoch in range(200):\n",
    "    model.reset_states()\n",
    "\n",
    "    batch_train_acc = []\n",
    "    batch_train_loss = []\n",
    "\n",
    "    for i in range(len(x_samples)):\n",
    "        xs = x_samples[i].reshape(1,1,45)\n",
    "        ys = y_samples[i].reshape(1,45)\n",
    "\n",
    "        loss, acc = model.train_on_batch(xs, ys)\n",
    "\n",
    "        batch_train_acc.append(acc)\n",
    "        batch_train_loss.append(loss)\n",
    "\n",
    "    train_acc.append(np.mean(batch_train_acc))\n",
    "    train_loss.append(np.mean(batch_train_loss))\n",
    "\n",
    "    if epoch % 10 == 0:\n",
    "    print('epoch {0:4d} train acc {1:0.3f} loss {2:0.3f}'.format(epoch, np.mean(batch_train_acc), np.mean(batch_train_loss)))"
   ]
  },
  {
   "cell_type": "code",
   "execution_count": null,
   "metadata": {},
   "outputs": [],
   "source": [
    "def gen_numbers_from_probability(nums_prob):\n",
    "\n",
    "    ball_box = []\n",
    "\n",
    "    for n in range(45):\n",
    "        ball_count = int(nums_prob[n] * 100 + 1)\n",
    "        ball = np.full((ball_count), n+1) #1부터 시작\n",
    "        ball_box += list(ball)\n",
    "\n",
    "    selected_balls = []\n",
    "\n",
    "    while True:\n",
    "        \n",
    "        if len(selected_balls) == 6:\n",
    "            break\n",
    "        \n",
    "        ball_index = np.random.randint(len(ball_box), size=1)[0]\n",
    "        ball = ball_box[ball_index]\n",
    "\n",
    "        if ball not in selected_balls:\n",
    "            selected_balls.append(ball)\n",
    "\n",
    "    return selected_balls"
   ]
  },
  {
   "cell_type": "code",
   "execution_count": null,
   "metadata": {},
   "outputs": [],
   "source": [
    "# 마지막 회차까지 학습한 모델로 다음 회차 추론\n",
    "\n",
    "print('receive numbers')\n",
    "\n",
    "xs = x_samples[-1].reshape(1, 1, 45)\n",
    "\n",
    "ys_pred = model.predict_on_batch(xs)\n",
    "\n",
    "list_numbers = []\n",
    "\n",
    "for n in range(10):\n",
    "    numbers = gen_numbers_from_probability(ys_pred[0])\n",
    "    print('{0} : {1}'.format(n, numbers))\n",
    "    list_numbers.append(numbers)  "
   ]
  }
 ],
 "metadata": {
  "kernelspec": {
   "display_name": "Python 3",
   "language": "python",
   "name": "python3"
  },
  "language_info": {
   "codemirror_mode": {
    "name": "ipython",
    "version": 3
   },
   "file_extension": ".py",
   "mimetype": "text/x-python",
   "name": "python",
   "nbconvert_exporter": "python",
   "pygments_lexer": "ipython3",
   "version": "3.7.4"
  }
 },
 "nbformat": 4,
 "nbformat_minor": 2
}
